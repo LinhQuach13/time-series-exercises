{
 "cells": [
  {
   "cell_type": "markdown",
   "metadata": {},
   "source": [
    "# Exercises\n",
    "- The end result of this exercise should be a Jupyter notebook named model.\n",
    "\n",
    "- Using saas.csv or log data from API usage or store_item_sales\n"
   ]
  },
  {
   "cell_type": "code",
   "execution_count": 1,
   "metadata": {},
   "outputs": [],
   "source": [
    "import numpy as np\n",
    "import pandas as pd\n",
    "\n",
    "from datetime import datetime\n",
    "from sklearn.metrics import mean_squared_error\n",
    "from math import sqrt\n",
    "\n",
    "import matplotlib.pyplot as plt\n",
    "%matplotlib inline\n",
    "import seaborn as sns\n",
    "from pandas.plotting import register_matplotlib_converters\n",
    "\n",
    "import statsmodels.api as sm\n",
    "from statsmodels.tsa.api import Holt\n",
    "\n",
    "import warnings\n",
    "warnings.filterwarnings(\"ignore\")\n"
   ]
  },
  {
   "cell_type": "markdown",
   "metadata": {},
   "source": [
    "##  1. Split data (train/validate/test) and resample by any period, except daily, and aggregate using the sum.\n"
   ]
  },
  {
   "cell_type": "code",
   "execution_count": 2,
   "metadata": {},
   "outputs": [],
   "source": [
    "#acquiring csv\n",
    "saas_df= pd.read_csv('saas.csv')"
   ]
  },
  {
   "cell_type": "code",
   "execution_count": 3,
   "metadata": {},
   "outputs": [
    {
     "data": {
      "text/html": [
       "<div>\n",
       "<style scoped>\n",
       "    .dataframe tbody tr th:only-of-type {\n",
       "        vertical-align: middle;\n",
       "    }\n",
       "\n",
       "    .dataframe tbody tr th {\n",
       "        vertical-align: top;\n",
       "    }\n",
       "\n",
       "    .dataframe thead th {\n",
       "        text-align: right;\n",
       "    }\n",
       "</style>\n",
       "<table border=\"1\" class=\"dataframe\">\n",
       "  <thead>\n",
       "    <tr style=\"text-align: right;\">\n",
       "      <th></th>\n",
       "      <th>Month_Invoiced</th>\n",
       "      <th>Customer_Id</th>\n",
       "      <th>Invoice_Id</th>\n",
       "      <th>Subscription_Type</th>\n",
       "      <th>Amount</th>\n",
       "    </tr>\n",
       "  </thead>\n",
       "  <tbody>\n",
       "    <tr>\n",
       "      <th>0</th>\n",
       "      <td>2014-01-31</td>\n",
       "      <td>1000000</td>\n",
       "      <td>5000000</td>\n",
       "      <td>0.0</td>\n",
       "      <td>0.0</td>\n",
       "    </tr>\n",
       "    <tr>\n",
       "      <th>1</th>\n",
       "      <td>2014-01-31</td>\n",
       "      <td>1000001</td>\n",
       "      <td>5000001</td>\n",
       "      <td>2.0</td>\n",
       "      <td>10.0</td>\n",
       "    </tr>\n",
       "    <tr>\n",
       "      <th>2</th>\n",
       "      <td>2014-01-31</td>\n",
       "      <td>1000002</td>\n",
       "      <td>5000002</td>\n",
       "      <td>0.0</td>\n",
       "      <td>0.0</td>\n",
       "    </tr>\n",
       "    <tr>\n",
       "      <th>3</th>\n",
       "      <td>2014-01-31</td>\n",
       "      <td>1000003</td>\n",
       "      <td>5000003</td>\n",
       "      <td>0.0</td>\n",
       "      <td>0.0</td>\n",
       "    </tr>\n",
       "    <tr>\n",
       "      <th>4</th>\n",
       "      <td>2014-01-31</td>\n",
       "      <td>1000004</td>\n",
       "      <td>5000004</td>\n",
       "      <td>1.0</td>\n",
       "      <td>5.0</td>\n",
       "    </tr>\n",
       "  </tbody>\n",
       "</table>\n",
       "</div>"
      ],
      "text/plain": [
       "  Month_Invoiced  Customer_Id  Invoice_Id  Subscription_Type  Amount\n",
       "0     2014-01-31      1000000     5000000                0.0     0.0\n",
       "1     2014-01-31      1000001     5000001                2.0    10.0\n",
       "2     2014-01-31      1000002     5000002                0.0     0.0\n",
       "3     2014-01-31      1000003     5000003                0.0     0.0\n",
       "4     2014-01-31      1000004     5000004                1.0     5.0"
      ]
     },
     "execution_count": 3,
     "metadata": {},
     "output_type": "execute_result"
    }
   ],
   "source": [
    "saas_df.head()"
   ]
  },
  {
   "cell_type": "code",
   "execution_count": 4,
   "metadata": {},
   "outputs": [
    {
     "data": {
      "text/plain": [
       "0.0     496410\n",
       "5.0     178212\n",
       "10.0     70706\n",
       "15.0     26474\n",
       "20.0     18656\n",
       "Name: Amount, dtype: int64"
      ]
     },
     "execution_count": 4,
     "metadata": {},
     "output_type": "execute_result"
    }
   ],
   "source": [
    "#Looking at value counts in amount to decide whether to change to int or not\n",
    "saas_df.Amount.value_counts()"
   ]
  },
  {
   "cell_type": "code",
   "execution_count": 5,
   "metadata": {},
   "outputs": [
    {
     "name": "stdout",
     "output_type": "stream",
     "text": [
      "<class 'pandas.core.frame.DataFrame'>\n",
      "RangeIndex: 790458 entries, 0 to 790457\n",
      "Data columns (total 5 columns):\n",
      " #   Column             Non-Null Count   Dtype  \n",
      "---  ------             --------------   -----  \n",
      " 0   Month_Invoiced     790458 non-null  object \n",
      " 1   Customer_Id        790458 non-null  int64  \n",
      " 2   Invoice_Id         790458 non-null  int64  \n",
      " 3   Subscription_Type  790458 non-null  float64\n",
      " 4   Amount             790458 non-null  float64\n",
      "dtypes: float64(2), int64(2), object(1)\n",
      "memory usage: 30.2+ MB\n"
     ]
    }
   ],
   "source": [
    "#Looking at datatypes\n",
    "saas_df.info()"
   ]
  },
  {
   "cell_type": "code",
   "execution_count": 6,
   "metadata": {},
   "outputs": [],
   "source": [
    "# Setting datatime datatype\n",
    "saas_df.Month_Invoiced= pd.to_datetime(saas_df.Month_Invoiced)"
   ]
  },
  {
   "cell_type": "code",
   "execution_count": 7,
   "metadata": {},
   "outputs": [],
   "source": [
    "# Set the index to be the datetime variable.\n",
    "saas_df= saas_df.set_index('Month_Invoiced').sort_index()"
   ]
  },
  {
   "cell_type": "code",
   "execution_count": 8,
   "metadata": {},
   "outputs": [],
   "source": [
    "#Changing Subscription Type column to integer datatype\n",
    "saas_df.Subscription_Type= saas_df.Subscription_Type.astype('int')"
   ]
  },
  {
   "cell_type": "code",
   "execution_count": 9,
   "metadata": {},
   "outputs": [],
   "source": [
    "#Changing amount column to integer datatype\n",
    "saas_df.Amount= saas_df.Amount.astype('int')"
   ]
  },
  {
   "cell_type": "code",
   "execution_count": 10,
   "metadata": {},
   "outputs": [
    {
     "name": "stdout",
     "output_type": "stream",
     "text": [
      "<class 'pandas.core.frame.DataFrame'>\n",
      "DatetimeIndex: 790458 entries, 2014-01-31 to 2017-12-31\n",
      "Data columns (total 4 columns):\n",
      " #   Column             Non-Null Count   Dtype\n",
      "---  ------             --------------   -----\n",
      " 0   Customer_Id        790458 non-null  int64\n",
      " 1   Invoice_Id         790458 non-null  int64\n",
      " 2   Subscription_Type  790458 non-null  int64\n",
      " 3   Amount             790458 non-null  int64\n",
      "dtypes: int64(4)\n",
      "memory usage: 30.2 MB\n"
     ]
    }
   ],
   "source": [
    "#Verify datatype was changed\n",
    "saas_df.info()"
   ]
  },
  {
   "cell_type": "code",
   "execution_count": 23,
   "metadata": {},
   "outputs": [],
   "source": [
    "# aggregate or resample daily by summing dollars & items sold\n",
    "df_resampled = saas_df.resample('d')['Amount'].sum()"
   ]
  },
  {
   "cell_type": "code",
   "execution_count": 24,
   "metadata": {},
   "outputs": [
    {
     "data": {
      "text/plain": [
       "Month_Invoiced\n",
       "2014-01-31    35850\n",
       "2014-02-01        0\n",
       "2014-02-02        0\n",
       "2014-02-03        0\n",
       "2014-02-04        0\n",
       "Freq: D, Name: Amount, dtype: int64"
      ]
     },
     "execution_count": 24,
     "metadata": {},
     "output_type": "execute_result"
    }
   ],
   "source": [
    "#Looking at the first 5 values of df_resampled\n",
    "df_resampled.head()"
   ]
  },
  {
   "cell_type": "code",
   "execution_count": 26,
   "metadata": {},
   "outputs": [
    {
     "data": {
      "text/plain": [
       "395229"
      ]
     },
     "execution_count": 26,
     "metadata": {},
     "output_type": "execute_result"
    }
   ],
   "source": [
    "# set train size to be 50% of total \n",
    "train_size = int(len(saas_df) * 0.5)\n",
    "train_size"
   ]
  },
  {
   "cell_type": "code",
   "execution_count": 27,
   "metadata": {},
   "outputs": [
    {
     "data": {
      "text/plain": [
       "237137"
      ]
     },
     "execution_count": 27,
     "metadata": {},
     "output_type": "execute_result"
    }
   ],
   "source": [
    "# set validate size to be 30% of total \n",
    "validate_size = int(len(saas_df) * 0.3)\n",
    "validate_size"
   ]
  },
  {
   "cell_type": "code",
   "execution_count": 29,
   "metadata": {},
   "outputs": [
    {
     "data": {
      "text/plain": [
       "158092"
      ]
     },
     "execution_count": 29,
     "metadata": {},
     "output_type": "execute_result"
    }
   ],
   "source": [
    "# set test size to be number of rows remaining. \n",
    "test_size = int(len(saas_df) - train_size - validate_size)\n",
    "test_size"
   ]
  },
  {
   "cell_type": "markdown",
   "metadata": {},
   "source": [
    "## 2. Forecast, plot and evaluate using each of the 4 parametric based methods we discussed:\n",
    "    - Simple Average\n",
    "    - Moving Average\n",
    "    - Holt's Linear Trend Model\n",
    "    - Based on previous year/month/etc., this is up to you."
   ]
  },
  {
   "cell_type": "code",
   "execution_count": null,
   "metadata": {},
   "outputs": [],
   "source": []
  }
 ],
 "metadata": {
  "kernelspec": {
   "display_name": "Python 3",
   "language": "python",
   "name": "python3"
  },
  "language_info": {
   "codemirror_mode": {
    "name": "ipython",
    "version": 3
   },
   "file_extension": ".py",
   "mimetype": "text/x-python",
   "name": "python",
   "nbconvert_exporter": "python",
   "pygments_lexer": "ipython3",
   "version": "3.8.5"
  }
 },
 "nbformat": 4,
 "nbformat_minor": 4
}
